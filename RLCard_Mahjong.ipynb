{
 "cells": [
  {
   "cell_type": "markdown",
   "metadata": {},
   "source": [
    "# Mahjong Game by adapting the RLCard library for Reinforcement Learning"
   ]
  },
  {
   "cell_type": "markdown",
   "metadata": {},
   "source": [
    "## Import Prerequisites"
   ]
  },
  {
   "cell_type": "code",
   "execution_count": 1,
   "metadata": {},
   "outputs": [],
   "source": [
    "import rlcard;\n",
    "from rlcard.games.mahjong.dealer import MahjongDealer as Dealer;\n",
    "from rlcard.games.mahjong.game import MahjongGame as Game;\n",
    "from rlcard.games.mahjong.card import MahjongCard as Card;\n",
    "from rlcard.games.mahjong.player import MahjongPlayer as Player;\n",
    "from rlcard.games.mahjong.utils import init_deck;\n",
    "import random;"
   ]
  },
  {
   "cell_type": "markdown",
   "metadata": {},
   "source": [
    "## Initialize a Game"
   ]
  },
  {
   "cell_type": "code",
   "execution_count": 2,
   "metadata": {},
   "outputs": [
    {
     "data": {
      "text/plain": [
       "<rlcard.games.mahjong.game.MahjongGame at 0x2490e2e6440>"
      ]
     },
     "execution_count": 2,
     "metadata": {},
     "output_type": "execute_result"
    }
   ],
   "source": [
    "game = rlcard.make('mahjong').game;\n",
    "game"
   ]
  },
  {
   "cell_type": "markdown",
   "metadata": {},
   "source": [
    "### Initialize Players"
   ]
  },
  {
   "cell_type": "code",
   "execution_count": 3,
   "metadata": {},
   "outputs": [
    {
     "name": "stdout",
     "output_type": "stream",
     "text": [
      "Number of Players initiated: 4\n"
     ]
    }
   ],
   "source": [
    "players = [Player(i, np_random=42) for i in range(game.num_players)];\n",
    "print(f\"Number of Players initiated: {len(players)}\");"
   ]
  },
  {
   "cell_type": "markdown",
   "metadata": {},
   "source": [
    "### Put Players into Game"
   ]
  },
  {
   "cell_type": "code",
   "execution_count": 4,
   "metadata": {},
   "outputs": [],
   "source": [
    "game = Game(players);"
   ]
  },
  {
   "cell_type": "markdown",
   "metadata": {},
   "source": [
    "### Initialize Deck"
   ]
  },
  {
   "cell_type": "code",
   "execution_count": 5,
   "metadata": {},
   "outputs": [],
   "source": [
    "init_deck = init_deck();"
   ]
  },
  {
   "cell_type": "code",
   "execution_count": 6,
   "metadata": {},
   "outputs": [],
   "source": [
    "# Add flower tiles to init_deck (Cantonese Mahjong)\n",
    "for flowerName in ['春', '夏', '秋', '冬', '梅', '蘭', '竹', '菊']:\n",
    "    init_deck.append(Card('flower', flowerName));"
   ]
  },
  {
   "cell_type": "code",
   "execution_count": 7,
   "metadata": {},
   "outputs": [
    {
     "name": "stdout",
     "output_type": "stream",
     "text": [
      "Number of Players allowed in a Mahjong Game: 4\n",
      "Number of Tiles in a Mahjong Game: 144\n"
     ]
    }
   ],
   "source": [
    "print(f\"Number of Players allowed in a Mahjong Game: {game.num_players}\");\n",
    "print(f\"Number of Tiles in a Mahjong Game: {len(init_deck)}\");"
   ]
  },
  {
   "cell_type": "markdown",
   "metadata": {},
   "source": [
    "### Check All the Possible Cards in a Mahjong Game"
   ]
  },
  {
   "cell_type": "code",
   "execution_count": 8,
   "metadata": {},
   "outputs": [
    {
     "name": "stdout",
     "output_type": "stream",
     "text": [
      "Tile 0: dots-1\n",
      "Tile 1: dots-2\n",
      "Tile 2: dots-3\n",
      "Tile 3: dots-4\n",
      "Tile 4: dots-5\n",
      "Tile 5: dots-6\n",
      "Tile 6: dots-7\n",
      "Tile 7: dots-8\n",
      "Tile 8: dots-9\n",
      "Tile 9: bamboo-1\n",
      "Tile 10: bamboo-2\n",
      "Tile 11: bamboo-3\n",
      "Tile 12: bamboo-4\n",
      "Tile 13: bamboo-5\n",
      "Tile 14: bamboo-6\n",
      "Tile 15: bamboo-7\n",
      "Tile 16: bamboo-8\n",
      "Tile 17: bamboo-9\n",
      "Tile 18: characters-1\n",
      "Tile 19: characters-2\n",
      "Tile 20: characters-3\n",
      "Tile 21: characters-4\n",
      "Tile 22: characters-5\n",
      "Tile 23: characters-6\n",
      "Tile 24: characters-7\n",
      "Tile 25: characters-8\n",
      "Tile 26: characters-9\n",
      "Tile 27: dragons-green\n",
      "Tile 28: dragons-red\n",
      "Tile 29: dragons-white\n",
      "Tile 30: winds-east\n",
      "Tile 31: winds-west\n",
      "Tile 32: winds-north\n",
      "Tile 33: winds-south\n",
      "Tile 34: dots-1\n",
      "Tile 35: dots-2\n",
      "Tile 36: dots-3\n",
      "Tile 37: dots-4\n",
      "Tile 38: dots-5\n",
      "Tile 39: dots-6\n",
      "Tile 40: dots-7\n",
      "Tile 41: dots-8\n",
      "Tile 42: dots-9\n",
      "Tile 43: bamboo-1\n",
      "Tile 44: bamboo-2\n",
      "Tile 45: bamboo-3\n",
      "Tile 46: bamboo-4\n",
      "Tile 47: bamboo-5\n",
      "Tile 48: bamboo-6\n",
      "Tile 49: bamboo-7\n",
      "Tile 50: bamboo-8\n",
      "Tile 51: bamboo-9\n",
      "Tile 52: characters-1\n",
      "Tile 53: characters-2\n",
      "Tile 54: characters-3\n",
      "Tile 55: characters-4\n",
      "Tile 56: characters-5\n",
      "Tile 57: characters-6\n",
      "Tile 58: characters-7\n",
      "Tile 59: characters-8\n",
      "Tile 60: characters-9\n",
      "Tile 61: dragons-green\n",
      "Tile 62: dragons-red\n",
      "Tile 63: dragons-white\n",
      "Tile 64: winds-east\n",
      "Tile 65: winds-west\n",
      "Tile 66: winds-north\n",
      "Tile 67: winds-south\n",
      "Tile 68: dots-1\n",
      "Tile 69: dots-2\n",
      "Tile 70: dots-3\n",
      "Tile 71: dots-4\n",
      "Tile 72: dots-5\n",
      "Tile 73: dots-6\n",
      "Tile 74: dots-7\n",
      "Tile 75: dots-8\n",
      "Tile 76: dots-9\n",
      "Tile 77: bamboo-1\n",
      "Tile 78: bamboo-2\n",
      "Tile 79: bamboo-3\n",
      "Tile 80: bamboo-4\n",
      "Tile 81: bamboo-5\n",
      "Tile 82: bamboo-6\n",
      "Tile 83: bamboo-7\n",
      "Tile 84: bamboo-8\n",
      "Tile 85: bamboo-9\n",
      "Tile 86: characters-1\n",
      "Tile 87: characters-2\n",
      "Tile 88: characters-3\n",
      "Tile 89: characters-4\n",
      "Tile 90: characters-5\n",
      "Tile 91: characters-6\n",
      "Tile 92: characters-7\n",
      "Tile 93: characters-8\n",
      "Tile 94: characters-9\n",
      "Tile 95: dragons-green\n",
      "Tile 96: dragons-red\n",
      "Tile 97: dragons-white\n",
      "Tile 98: winds-east\n",
      "Tile 99: winds-west\n",
      "Tile 100: winds-north\n",
      "Tile 101: winds-south\n",
      "Tile 102: dots-1\n",
      "Tile 103: dots-2\n",
      "Tile 104: dots-3\n",
      "Tile 105: dots-4\n",
      "Tile 106: dots-5\n",
      "Tile 107: dots-6\n",
      "Tile 108: dots-7\n",
      "Tile 109: dots-8\n",
      "Tile 110: dots-9\n",
      "Tile 111: bamboo-1\n",
      "Tile 112: bamboo-2\n",
      "Tile 113: bamboo-3\n",
      "Tile 114: bamboo-4\n",
      "Tile 115: bamboo-5\n",
      "Tile 116: bamboo-6\n",
      "Tile 117: bamboo-7\n",
      "Tile 118: bamboo-8\n",
      "Tile 119: bamboo-9\n",
      "Tile 120: characters-1\n",
      "Tile 121: characters-2\n",
      "Tile 122: characters-3\n",
      "Tile 123: characters-4\n",
      "Tile 124: characters-5\n",
      "Tile 125: characters-6\n",
      "Tile 126: characters-7\n",
      "Tile 127: characters-8\n",
      "Tile 128: characters-9\n",
      "Tile 129: dragons-green\n",
      "Tile 130: dragons-red\n",
      "Tile 131: dragons-white\n",
      "Tile 132: winds-east\n",
      "Tile 133: winds-west\n",
      "Tile 134: winds-north\n",
      "Tile 135: winds-south\n",
      "Tile 136: flower-春\n",
      "Tile 137: flower-夏\n",
      "Tile 138: flower-秋\n",
      "Tile 139: flower-冬\n",
      "Tile 140: flower-梅\n",
      "Tile 141: flower-蘭\n",
      "Tile 142: flower-竹\n",
      "Tile 143: flower-菊\n"
     ]
    }
   ],
   "source": [
    "for i in range(len(init_deck)):\n",
    "    print(f\"Tile {i}: {init_deck[i].get_str()}\");"
   ]
  },
  {
   "cell_type": "markdown",
   "metadata": {},
   "source": [
    "## Shuffle the Deck"
   ]
  },
  {
   "cell_type": "code",
   "execution_count": 9,
   "metadata": {},
   "outputs": [
    {
     "name": "stdout",
     "output_type": "stream",
     "text": [
      "Number of Tiles in a Mahjong Game after shuffling: 144\n"
     ]
    }
   ],
   "source": [
    "random.shuffle(init_deck);\n",
    "print(f\"Number of Tiles in a Mahjong Game after shuffling: {len(init_deck)}\");"
   ]
  },
  {
   "cell_type": "markdown",
   "metadata": {},
   "source": [
    "## Deal Cards to Players"
   ]
  },
  {
   "cell_type": "code",
   "execution_count": 10,
   "metadata": {},
   "outputs": [
    {
     "name": "stdout",
     "output_type": "stream",
     "text": [
      "Number of Tiles left in the deck after dealing: 92\n"
     ]
    }
   ],
   "source": [
    "# Each player draws 13 tiles\n",
    "for player in players:\n",
    "    player.hand = [init_deck.pop() for _ in range(13)]\n",
    "\n",
    "# Print the number of tiles left in the deck after dealing\n",
    "print(f\"Number of Tiles left in the deck after dealing: {len(init_deck)}\")"
   ]
  },
  {
   "cell_type": "code",
   "execution_count": 11,
   "metadata": {},
   "outputs": [],
   "source": [
    "# funtion that parses a tile object\n",
    "def parseTile(tile: Card):\n",
    "    '''\n",
    "    Return (Suit, Rank) of a tile object\n",
    "    '''\n",
    "    tile_str = tile.get_str();\n",
    "    suit, rank = tile_str.split('-');\n",
    "    return (suit, rank);"
   ]
  },
  {
   "cell_type": "code",
   "execution_count": 12,
   "metadata": {},
   "outputs": [],
   "source": [
    "# function to check if a tile is a flower tile\n",
    "def is_flower(tile: Card) -> bool:\n",
    "    '''\n",
    "    Check if a tile is a flower tile\n",
    "    '''\n",
    "    suit, rank = parseTile(tile)\n",
    "    return suit == 'flower'"
   ]
  },
  {
   "cell_type": "code",
   "execution_count": 13,
   "metadata": {},
   "outputs": [
    {
     "name": "stdout",
     "output_type": "stream",
     "text": [
      "Player 1 discards a flower tile: flower-春\n",
      "Player 1 redraws a tile: winds-west\n",
      "Player 2 discards a flower tile: flower-秋\n",
      "Player 2 redraws a tile: flower-冬\n",
      "Player 2 discards a flower tile: flower-冬\n",
      "Player 2 redraws a tile: characters-6\n",
      "Player 3 discards a flower tile: flower-竹\n",
      "Player 3 redraws a tile: winds-north\n"
     ]
    }
   ],
   "source": [
    "# Each player iteratively redraw a tile from the back of the deck according to number of flower tiles\n",
    "hasFlower: list[bool] = [True, True, True, True];\n",
    "while (all(hasFlower)==True):\n",
    "    for playerID, player in enumerate(players):\n",
    "        currHand: list = player.hand;\n",
    "        for tile in currHand:\n",
    "            if is_flower(tile):\n",
    "                currHand.remove(tile);\n",
    "                print(f\"Player {player.player_id} discards a flower tile: {tile.get_str()}\");\n",
    "                currHand.append(init_deck.pop());\n",
    "                print(f\"Player {player.player_id} redraws a tile: {currHand[-1].get_str()}\");\n",
    "        hasFlower[playerID] = any(parseTile(tile)[0] == 'flower' for tile in currHand);"
   ]
  },
  {
   "cell_type": "markdown",
   "metadata": {},
   "source": [
    "### Display Initial Tiles from each player"
   ]
  },
  {
   "cell_type": "code",
   "execution_count": 14,
   "metadata": {},
   "outputs": [
    {
     "name": "stdout",
     "output_type": "stream",
     "text": [
      "Player 0 has 13 initial tiles:\n",
      "bamboo-3 characters-7 dragons-white bamboo-5 characters-7 characters-5 bamboo-2 dots-8 characters-3 dots-9 dots-9 bamboo-1 dots-3 \n",
      "\n",
      "Player 1 has 13 initial tiles:\n",
      "bamboo-5 characters-3 characters-6 bamboo-7 dots-5 dots-9 dots-8 dots-2 bamboo-9 bamboo-4 dots-1 winds-north winds-west \n",
      "\n",
      "Player 2 has 13 initial tiles:\n",
      "dragons-green characters-2 dragons-green dots-8 dragons-white dragons-red characters-7 characters-5 bamboo-7 characters-2 dots-6 bamboo-6 characters-6 \n",
      "\n",
      "Player 3 has 13 initial tiles:\n",
      "winds-west characters-9 bamboo-6 dragons-white dots-6 characters-8 dots-1 characters-4 dragons-white bamboo-3 characters-8 dots-3 winds-north \n",
      "\n"
     ]
    }
   ],
   "source": [
    "for player in players:\n",
    "    print(f\"Player {player.player_id} has {len(player.hand)} initial tiles:\")\n",
    "    for tile in player.hand:\n",
    "        print(tile.get_str(), end=' ')\n",
    "    print('\\n')"
   ]
  },
  {
   "cell_type": "markdown",
   "metadata": {},
   "source": [
    "From the above, we can see that, each player initially draws 13 tiles. "
   ]
  }
 ],
 "metadata": {
  "kernelspec": {
   "display_name": "Python 3",
   "language": "python",
   "name": "python3"
  },
  "language_info": {
   "codemirror_mode": {
    "name": "ipython",
    "version": 3
   },
   "file_extension": ".py",
   "mimetype": "text/x-python",
   "name": "python",
   "nbconvert_exporter": "python",
   "pygments_lexer": "ipython3",
   "version": "3.10.7"
  }
 },
 "nbformat": 4,
 "nbformat_minor": 2
}
