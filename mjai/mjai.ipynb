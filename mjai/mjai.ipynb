{
 "cells": [
  {
   "cell_type": "markdown",
   "metadata": {},
   "source": [
    "# Mjai"
   ]
  },
  {
   "cell_type": "markdown",
   "metadata": {},
   "source": [
    "## Install Prerequisites"
   ]
  },
  {
   "cell_type": "markdown",
   "metadata": {},
   "source": [
    "Open Docker before executing this notebook."
   ]
  },
  {
   "cell_type": "markdown",
   "metadata": {},
   "source": [
    "Please install the following dependencies:\n",
    "- `pip install mjai`"
   ]
  },
  {
   "cell_type": "code",
   "execution_count": 5,
   "metadata": {},
   "outputs": [],
   "source": [
    "import mjai;\n",
    "from mjai.game import Game;\n",
    "from mjai.game import Game;\n",
    "from mjai import Simulator;\n",
    "import json;\n",
    "from agent1 import SimpleAgent;\n",
    "from RandomAgent import RandomAgent;"
   ]
  },
  {
   "cell_type": "markdown",
   "metadata": {},
   "source": [
    "## Initializing the Game's Environment"
   ]
  },
  {
   "cell_type": "code",
   "execution_count": 6,
   "metadata": {},
   "outputs": [
    {
     "name": "stdout",
     "output_type": "stream",
     "text": [
      "{\n",
      "  \"status\": \"game started\"\n",
      "}\n"
     ]
    }
   ],
   "source": [
    "# Create agents\n",
    "agents = [SimpleAgent(), SimpleAgent(), RandomAgent(), RandomAgent()]\n",
    "\n",
    "# Initialize the game\n",
    "game = Game(agents)\n",
    "\n",
    "# Run the game and visualize it\n",
    "game_records = game.start_game()\n",
    "\n",
    "# Save the game records to a file\n",
    "with open('game_record.json', 'w') as f:\n",
    "    json.dump(game_records, f)\n",
    "\n",
    "# Print the game records\n",
    "print(json.dumps(game_records, indent=2))"
   ]
  },
  {
   "cell_type": "markdown",
   "metadata": {},
   "source": [
    "## Run a Game a Log the game records in a .json file"
   ]
  },
  {
   "cell_type": "code",
   "execution_count": 8,
   "metadata": {},
   "outputs": [
    {
     "name": "stderr",
     "output_type": "stream",
     "text": [
      "\u001b[32m2024-11-20 16:25:50.482\u001b[0m | \u001b[1mINFO    \u001b[0m | \u001b[36mmjai.player\u001b[0m:\u001b[36mlaunch_container\u001b[0m:\u001b[36m83\u001b[0m - \u001b[1mStart docker container for player0\u001b[0m\n",
      "\u001b[32m2024-11-20 16:25:50.489\u001b[0m | \u001b[1mINFO    \u001b[0m | \u001b[36mmjai.player\u001b[0m:\u001b[36mlaunch_container\u001b[0m:\u001b[36m109\u001b[0m - \u001b[1mcmd: docker run -d --platform linux/x86_64 -w /workspace -p 28090:3000 --memory 4G --cpus 4 --mount type=bind,src=C:\\Data\\Canada\\Study\\masters\\CSI 5138 - Multi Agent Systems\\Project\\Mahjong-Strategy-Simulation\\mjai\\agent1.py,dst=/bot.zip,readonly --mount type=bind,src=c:\\Users\\kelvi\\AppData\\Local\\Programs\\Python\\Python310\\lib\\site-packages\\mjai\\http_server\\server.py,dst=/workspace/00__server__.py,readonly docker.io/smly/mjai-client:v3 /workspace/.pyenv/shims/python -u /workspace/00__server__.py 0\u001b[0m\n",
      "\u001b[32m2024-11-20 16:25:50.771\u001b[0m | \u001b[1mINFO    \u001b[0m | \u001b[36mmjai.player\u001b[0m:\u001b[36mlaunch_container\u001b[0m:\u001b[36m119\u001b[0m - \u001b[1mStarted. Container ID: a462bb5a571e3c66125462ef02cffb0fcbb0170054f0eb8f0dd2e55c663bc7a9\u001b[0m\n",
      "\u001b[32m2024-11-20 16:25:50.773\u001b[0m | \u001b[1mINFO    \u001b[0m | \u001b[36mmjai.player\u001b[0m:\u001b[36mlaunch_container\u001b[0m:\u001b[36m122\u001b[0m - \u001b[1mWait until the player 0 is ready\u001b[0m\n",
      "\u001b[32m2024-11-20 16:25:52.805\u001b[0m | \u001b[1mINFO    \u001b[0m | \u001b[36mmjai.player\u001b[0m:\u001b[36mlaunch_container\u001b[0m:\u001b[36m142\u001b[0m - \u001b[1mDone. Player 0 is ready!\u001b[0m\n",
      "\u001b[32m2024-11-20 16:25:52.809\u001b[0m | \u001b[1mINFO    \u001b[0m | \u001b[36mmjai.player\u001b[0m:\u001b[36mlaunch_container\u001b[0m:\u001b[36m83\u001b[0m - \u001b[1mStart docker container for player1\u001b[0m\n",
      "\u001b[32m2024-11-20 16:25:52.815\u001b[0m | \u001b[1mINFO    \u001b[0m | \u001b[36mmjai.player\u001b[0m:\u001b[36mlaunch_container\u001b[0m:\u001b[36m109\u001b[0m - \u001b[1mcmd: docker run -d --platform linux/x86_64 -w /workspace -p 28091:3000 --memory 4G --cpus 4 --mount type=bind,src=C:\\Data\\Canada\\Study\\masters\\CSI 5138 - Multi Agent Systems\\Project\\Mahjong-Strategy-Simulation\\mjai\\agent1.py,dst=/bot.zip,readonly --mount type=bind,src=c:\\Users\\kelvi\\AppData\\Local\\Programs\\Python\\Python310\\lib\\site-packages\\mjai\\http_server\\server.py,dst=/workspace/00__server__.py,readonly docker.io/smly/mjai-client:v3 /workspace/.pyenv/shims/python -u /workspace/00__server__.py 1\u001b[0m\n",
      "\u001b[32m2024-11-20 16:25:52.974\u001b[0m | \u001b[1mINFO    \u001b[0m | \u001b[36mmjai.player\u001b[0m:\u001b[36mlaunch_container\u001b[0m:\u001b[36m119\u001b[0m - \u001b[1mStarted. Container ID: 0721e51b66be3212289097475b91e7bf825499e5eb8ae832b523557e24f44b58\u001b[0m\n",
      "\u001b[32m2024-11-20 16:25:52.975\u001b[0m | \u001b[1mINFO    \u001b[0m | \u001b[36mmjai.player\u001b[0m:\u001b[36mlaunch_container\u001b[0m:\u001b[36m122\u001b[0m - \u001b[1mWait until the player 1 is ready\u001b[0m\n",
      "\u001b[32m2024-11-20 16:25:55.016\u001b[0m | \u001b[1mINFO    \u001b[0m | \u001b[36mmjai.player\u001b[0m:\u001b[36mlaunch_container\u001b[0m:\u001b[36m142\u001b[0m - \u001b[1mDone. Player 1 is ready!\u001b[0m\n",
      "\u001b[32m2024-11-20 16:25:55.019\u001b[0m | \u001b[1mINFO    \u001b[0m | \u001b[36mmjai.player\u001b[0m:\u001b[36mlaunch_container\u001b[0m:\u001b[36m83\u001b[0m - \u001b[1mStart docker container for player2\u001b[0m\n",
      "\u001b[32m2024-11-20 16:25:55.025\u001b[0m | \u001b[1mINFO    \u001b[0m | \u001b[36mmjai.player\u001b[0m:\u001b[36mlaunch_container\u001b[0m:\u001b[36m109\u001b[0m - \u001b[1mcmd: docker run -d --platform linux/x86_64 -w /workspace -p 28092:3000 --memory 4G --cpus 4 --mount type=bind,src=C:\\Data\\Canada\\Study\\masters\\CSI 5138 - Multi Agent Systems\\Project\\Mahjong-Strategy-Simulation\\mjai\\RandomAgent.py,dst=/bot.zip,readonly --mount type=bind,src=c:\\Users\\kelvi\\AppData\\Local\\Programs\\Python\\Python310\\lib\\site-packages\\mjai\\http_server\\server.py,dst=/workspace/00__server__.py,readonly docker.io/smly/mjai-client:v3 /workspace/.pyenv/shims/python -u /workspace/00__server__.py 2\u001b[0m\n",
      "\u001b[32m2024-11-20 16:25:55.250\u001b[0m | \u001b[1mINFO    \u001b[0m | \u001b[36mmjai.player\u001b[0m:\u001b[36mlaunch_container\u001b[0m:\u001b[36m119\u001b[0m - \u001b[1mStarted. Container ID: a369db6de6a848477ff1b64c97000235d0405e10edd9b599b3702ec17b0594e8\u001b[0m\n",
      "\u001b[32m2024-11-20 16:25:55.252\u001b[0m | \u001b[1mINFO    \u001b[0m | \u001b[36mmjai.player\u001b[0m:\u001b[36mlaunch_container\u001b[0m:\u001b[36m122\u001b[0m - \u001b[1mWait until the player 2 is ready\u001b[0m\n",
      "\u001b[32m2024-11-20 16:25:57.275\u001b[0m | \u001b[1mINFO    \u001b[0m | \u001b[36mmjai.player\u001b[0m:\u001b[36mlaunch_container\u001b[0m:\u001b[36m142\u001b[0m - \u001b[1mDone. Player 2 is ready!\u001b[0m\n",
      "\u001b[32m2024-11-20 16:25:57.277\u001b[0m | \u001b[1mINFO    \u001b[0m | \u001b[36mmjai.player\u001b[0m:\u001b[36mlaunch_container\u001b[0m:\u001b[36m83\u001b[0m - \u001b[1mStart docker container for player3\u001b[0m\n",
      "\u001b[32m2024-11-20 16:25:57.281\u001b[0m | \u001b[1mINFO    \u001b[0m | \u001b[36mmjai.player\u001b[0m:\u001b[36mlaunch_container\u001b[0m:\u001b[36m109\u001b[0m - \u001b[1mcmd: docker run -d --platform linux/x86_64 -w /workspace -p 28093:3000 --memory 4G --cpus 4 --mount type=bind,src=C:\\Data\\Canada\\Study\\masters\\CSI 5138 - Multi Agent Systems\\Project\\Mahjong-Strategy-Simulation\\mjai\\RandomAgent.py,dst=/bot.zip,readonly --mount type=bind,src=c:\\Users\\kelvi\\AppData\\Local\\Programs\\Python\\Python310\\lib\\site-packages\\mjai\\http_server\\server.py,dst=/workspace/00__server__.py,readonly docker.io/smly/mjai-client:v3 /workspace/.pyenv/shims/python -u /workspace/00__server__.py 3\u001b[0m\n",
      "\u001b[32m2024-11-20 16:25:57.622\u001b[0m | \u001b[1mINFO    \u001b[0m | \u001b[36mmjai.player\u001b[0m:\u001b[36mlaunch_container\u001b[0m:\u001b[36m119\u001b[0m - \u001b[1mStarted. Container ID: 281b8da90e31969a921a1e2af64137b5acd80b3d734b3b62225fa89af58e2c49\u001b[0m\n",
      "\u001b[32m2024-11-20 16:25:57.624\u001b[0m | \u001b[1mINFO    \u001b[0m | \u001b[36mmjai.player\u001b[0m:\u001b[36mlaunch_container\u001b[0m:\u001b[36m122\u001b[0m - \u001b[1mWait until the player 3 is ready\u001b[0m\n",
      "\u001b[32m2024-11-20 16:25:59.677\u001b[0m | \u001b[1mINFO    \u001b[0m | \u001b[36mmjai.player\u001b[0m:\u001b[36mlaunch_container\u001b[0m:\u001b[36m142\u001b[0m - \u001b[1mDone. Player 3 is ready!\u001b[0m\n",
      "\u001b[32m2024-11-20 16:25:59.697\u001b[0m | \u001b[34m\u001b[1mDEBUG   \u001b[0m | \u001b[36mmjai.player\u001b[0m:\u001b[36mreact\u001b[0m:\u001b[36m177\u001b[0m - \u001b[34m\u001b[1m0 <- b'[{\"type\":\"start_game\",\"names\":[\"0\",\"1\",\"2\",\"3\"],\"id\":0}]'\u001b[0m\n",
      "Exception: (\"RuntimeError: ('Connection aborted.', RemoteDisconnected('Remote end closed connection without response'))\", 0)\n"
     ]
    },
    {
     "ename": "EngineRuntimeError",
     "evalue": "('Cannot start the game: Invalid Agent detected.', -1)",
     "output_type": "error",
     "traceback": [
      "\u001b[1;31m---------------------------------------------------------------------------\u001b[0m",
      "\u001b[1;31mEngineRuntimeError\u001b[0m                        Traceback (most recent call last)",
      "Cell \u001b[1;32mIn[8], line 10\u001b[0m\n\u001b[0;32m      1\u001b[0m simulator \u001b[38;5;241m=\u001b[39m Simulator(\n\u001b[0;32m      2\u001b[0m     submissions\u001b[38;5;241m=\u001b[39m[\n\u001b[0;32m      3\u001b[0m         \u001b[38;5;124m\"\u001b[39m\u001b[38;5;124magent1.py\u001b[39m\u001b[38;5;124m\"\u001b[39m,\n\u001b[1;32m   (...)\u001b[0m\n\u001b[0;32m      8\u001b[0m     logs_dir\u001b[38;5;241m=\u001b[39m\u001b[38;5;124m\"\u001b[39m\u001b[38;5;124mlogs\u001b[39m\u001b[38;5;124m\"\u001b[39m\n\u001b[0;32m      9\u001b[0m );\n\u001b[1;32m---> 10\u001b[0m \u001b[43msimulator\u001b[49m\u001b[38;5;241;43m.\u001b[39;49m\u001b[43mrun\u001b[49m\u001b[43m(\u001b[49m\u001b[38;5;241;43m1\u001b[39;49m\u001b[43m)\u001b[49m;\n",
      "File \u001b[1;32mc:\\Users\\kelvi\\AppData\\Local\\Programs\\Python\\Python310\\lib\\site-packages\\mjai\\game.py:62\u001b[0m, in \u001b[0;36mSimulator.run\u001b[1;34m(self, dup_index)\u001b[0m\n\u001b[0;32m     60\u001b[0m next_state: \u001b[38;5;28mdict\u001b[39m \u001b[38;5;241m|\u001b[39m \u001b[38;5;28;01mNone\u001b[39;00m \u001b[38;5;241m=\u001b[39m \u001b[38;5;28;01mNone\u001b[39;00m\n\u001b[0;32m     61\u001b[0m \u001b[38;5;28;01mfor\u001b[39;00m run_idx \u001b[38;5;129;01min\u001b[39;00m \u001b[38;5;28mrange\u001b[39m(max_run):\n\u001b[1;32m---> 62\u001b[0m     next_state \u001b[38;5;241m=\u001b[39m \u001b[38;5;28;43mself\u001b[39;49m\u001b[38;5;241;43m.\u001b[39;49m\u001b[43m_internal_run\u001b[49m\u001b[43m(\u001b[49m\u001b[43mrun_idx\u001b[49m\u001b[43m,\u001b[49m\u001b[43m \u001b[49m\u001b[43mnext_state\u001b[49m\u001b[43m)\u001b[49m\n\u001b[0;32m     63\u001b[0m     \u001b[38;5;28;01mif\u001b[39;00m next_state \u001b[38;5;129;01mis\u001b[39;00m \u001b[38;5;28;01mNone\u001b[39;00m:\n\u001b[0;32m     64\u001b[0m         \u001b[38;5;28;01mbreak\u001b[39;00m\n",
      "File \u001b[1;32mc:\\Users\\kelvi\\AppData\\Local\\Programs\\Python\\Python310\\lib\\site-packages\\mjai\\game.py:318\u001b[0m, in \u001b[0;36mSimulator._internal_run\u001b[1;34m(self, run_idx, next_state)\u001b[0m\n\u001b[0;32m    313\u001b[0m \u001b[38;5;28;01mif\u001b[39;00m \u001b[38;5;28mlen\u001b[39m(game_jsons) \u001b[38;5;241m==\u001b[39m \u001b[38;5;241m0\u001b[39m:\n\u001b[0;32m    314\u001b[0m     json\u001b[38;5;241m.\u001b[39mdump(\n\u001b[0;32m    315\u001b[0m         error_report,\n\u001b[0;32m    316\u001b[0m         (\u001b[38;5;28mself\u001b[39m\u001b[38;5;241m.\u001b[39mlogs_dir \u001b[38;5;241m/\u001b[39m \u001b[38;5;124mf\u001b[39m\u001b[38;5;124m\"\u001b[39m\u001b[38;5;132;01m{\u001b[39;00mrun_idx\u001b[38;5;132;01m}\u001b[39;00m\u001b[38;5;124m.game.error.json\u001b[39m\u001b[38;5;124m\"\u001b[39m)\u001b[38;5;241m.\u001b[39mopen(\u001b[38;5;124m\"\u001b[39m\u001b[38;5;124mw\u001b[39m\u001b[38;5;124m\"\u001b[39m),\n\u001b[0;32m    317\u001b[0m     )\n\u001b[1;32m--> 318\u001b[0m     \u001b[38;5;28;01mraise\u001b[39;00m EngineRuntimeError(\n\u001b[0;32m    319\u001b[0m         \u001b[38;5;124m\"\u001b[39m\u001b[38;5;124mCannot start the game: Invalid Agent detected.\u001b[39m\u001b[38;5;124m\"\u001b[39m,\n\u001b[0;32m    320\u001b[0m         error_report[\u001b[38;5;124m\"\u001b[39m\u001b[38;5;124mplayer_id\u001b[39m\u001b[38;5;124m\"\u001b[39m],\n\u001b[0;32m    321\u001b[0m     )\n\u001b[0;32m    323\u001b[0m game_json \u001b[38;5;241m=\u001b[39m game_jsons[\u001b[38;5;241m0\u001b[39m]\n\u001b[0;32m    324\u001b[0m \u001b[38;5;28;01mwith\u001b[39;00m gzip\u001b[38;5;241m.\u001b[39mopen(game_json, \u001b[38;5;124m\"\u001b[39m\u001b[38;5;124mrb\u001b[39m\u001b[38;5;124m\"\u001b[39m) \u001b[38;5;28;01mas\u001b[39;00m f:\n",
      "\u001b[1;31mEngineRuntimeError\u001b[0m: ('Cannot start the game: Invalid Agent detected.', -1)"
     ]
    }
   ],
   "source": [
    "simulator = Simulator(\n",
    "    submissions=[\n",
    "        \"agent1.py\",\n",
    "        \"agent1.py\",\n",
    "        \"RandomAgent.py\",\n",
    "        \"RandomAgent.py\"\n",
    "    ],\n",
    "    logs_dir=\"logs\"\n",
    ");\n",
    "simulator.run(1);"
   ]
  }
 ],
 "metadata": {
  "kernelspec": {
   "display_name": "Python 3",
   "language": "python",
   "name": "python3"
  },
  "language_info": {
   "codemirror_mode": {
    "name": "ipython",
    "version": 3
   },
   "file_extension": ".py",
   "mimetype": "text/x-python",
   "name": "python",
   "nbconvert_exporter": "python",
   "pygments_lexer": "ipython3",
   "version": "3.10.7"
  }
 },
 "nbformat": 4,
 "nbformat_minor": 2
}
