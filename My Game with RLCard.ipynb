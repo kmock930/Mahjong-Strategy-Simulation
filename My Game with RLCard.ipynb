{
 "cells": [
  {
   "cell_type": "markdown",
   "metadata": {},
   "source": [
    "# MY Mahjong Game by adapting the RLCard library for Reinforcement Learning"
   ]
  },
  {
   "cell_type": "markdown",
   "metadata": {},
   "source": [
    "## Import Prerequisites"
   ]
  },
  {
   "cell_type": "code",
   "execution_count": 21,
   "metadata": {},
   "outputs": [],
   "source": [
    "import rlcard;\n",
    "import sys;\n",
    "sys.path.append('My Game')\n",
    "from game import CustomGame;\n",
    "from player import Player;\n",
    "from gameLog import GameLog;\n",
    "from Card import Card;\n",
    "from ShangtingPlayer import ShangTingPlayer;\n",
    "import random;"
   ]
  },
  {
   "cell_type": "markdown",
   "metadata": {},
   "source": [
    "## Initialize a Game"
   ]
  },
  {
   "cell_type": "code",
   "execution_count": 2,
   "metadata": {},
   "outputs": [
    {
     "data": {
      "text/plain": [
       "<game.CustomGame at 0x1acc2d49270>"
      ]
     },
     "execution_count": 2,
     "metadata": {},
     "output_type": "execute_result"
    }
   ],
   "source": [
    "game = CustomGame();\n",
    "game"
   ]
  },
  {
   "cell_type": "markdown",
   "metadata": {},
   "source": [
    "### Players"
   ]
  },
  {
   "cell_type": "code",
   "execution_count": 3,
   "metadata": {},
   "outputs": [
    {
     "data": {
      "text/plain": [
       "4"
      ]
     },
     "execution_count": 3,
     "metadata": {},
     "output_type": "execute_result"
    }
   ],
   "source": [
    "len(game.players)"
   ]
  },
  {
   "cell_type": "markdown",
   "metadata": {},
   "source": [
    "### Total Tiles"
   ]
  },
  {
   "cell_type": "code",
   "execution_count": 4,
   "metadata": {},
   "outputs": [
    {
     "name": "stdout",
     "output_type": "stream",
     "text": [
      "Number of Tiles in a Mahjong Game: 144\n",
      "1 萬\n",
      "1 萬\n",
      "1 萬\n",
      "1 萬\n",
      "2 萬\n",
      "2 萬\n",
      "2 萬\n",
      "2 萬\n",
      "3 萬\n",
      "3 萬\n",
      "3 萬\n",
      "3 萬\n",
      "4 萬\n",
      "4 萬\n",
      "4 萬\n",
      "4 萬\n",
      "5 萬\n",
      "5 萬\n",
      "5 萬\n",
      "5 萬\n",
      "6 萬\n",
      "6 萬\n",
      "6 萬\n",
      "6 萬\n",
      "7 萬\n",
      "7 萬\n",
      "7 萬\n",
      "7 萬\n",
      "8 萬\n",
      "8 萬\n",
      "8 萬\n",
      "8 萬\n",
      "9 萬\n",
      "9 萬\n",
      "9 萬\n",
      "9 萬\n",
      "1 筒\n",
      "1 筒\n",
      "1 筒\n",
      "1 筒\n",
      "2 筒\n",
      "2 筒\n",
      "2 筒\n",
      "2 筒\n",
      "3 筒\n",
      "3 筒\n",
      "3 筒\n",
      "3 筒\n",
      "4 筒\n",
      "4 筒\n",
      "4 筒\n",
      "4 筒\n",
      "5 筒\n",
      "5 筒\n",
      "5 筒\n",
      "5 筒\n",
      "6 筒\n",
      "6 筒\n",
      "6 筒\n",
      "6 筒\n",
      "7 筒\n",
      "7 筒\n",
      "7 筒\n",
      "7 筒\n",
      "8 筒\n",
      "8 筒\n",
      "8 筒\n",
      "8 筒\n",
      "9 筒\n",
      "9 筒\n",
      "9 筒\n",
      "9 筒\n",
      "1 索\n",
      "1 索\n",
      "1 索\n",
      "1 索\n",
      "2 索\n",
      "2 索\n",
      "2 索\n",
      "2 索\n",
      "3 索\n",
      "3 索\n",
      "3 索\n",
      "3 索\n",
      "4 索\n",
      "4 索\n",
      "4 索\n",
      "4 索\n",
      "5 索\n",
      "5 索\n",
      "5 索\n",
      "5 索\n",
      "6 索\n",
      "6 索\n",
      "6 索\n",
      "6 索\n",
      "7 索\n",
      "7 索\n",
      "7 索\n",
      "7 索\n",
      "8 索\n",
      "8 索\n",
      "8 索\n",
      "8 索\n",
      "9 索\n",
      "9 索\n",
      "9 索\n",
      "9 索\n",
      "東 風\n",
      "東 風\n",
      "東 風\n",
      "東 風\n",
      "南 風\n",
      "南 風\n",
      "南 風\n",
      "南 風\n",
      "西 風\n",
      "西 風\n",
      "西 風\n",
      "西 風\n",
      "北 風\n",
      "北 風\n",
      "北 風\n",
      "北 風\n",
      "中 箭\n",
      "中 箭\n",
      "中 箭\n",
      "中 箭\n",
      "發 箭\n",
      "發 箭\n",
      "發 箭\n",
      "發 箭\n",
      "白 箭\n",
      "白 箭\n",
      "白 箭\n",
      "白 箭\n",
      "春 花\n",
      "夏 花\n",
      "秋 花\n",
      "冬 花\n",
      "梅 花\n",
      "蘭 花\n",
      "竹 花\n",
      "菊 花\n"
     ]
    }
   ],
   "source": [
    "with open('My Game/totalCards.txt', 'r', encoding='utf-8') as f:\n",
    "    tiles = f.readlines();\n",
    "    print(f\"Number of Tiles in a Mahjong Game: {len(tiles)}\");\n",
    "    for tile in tiles:\n",
    "        tile = tile.strip();\n",
    "        print(tile);"
   ]
  },
  {
   "cell_type": "code",
   "execution_count": 5,
   "metadata": {},
   "outputs": [
    {
     "name": "stdout",
     "output_type": "stream",
     "text": [
      "Number of Tiles in a Mahjong Game: 92\n",
      "筒 5\n",
      "萬 3\n",
      "風 西\n",
      "索 2\n",
      "萬 7\n",
      "索 9\n",
      "萬 6\n",
      "風 西\n",
      "萬 5\n",
      "箭 中\n",
      "筒 8\n",
      "索 7\n",
      "筒 9\n",
      "萬 1\n",
      "筒 9\n",
      "筒 1\n",
      "花 梅\n",
      "筒 2\n",
      "萬 1\n",
      "索 9\n",
      "索 2\n",
      "筒 4\n",
      "花 竹\n",
      "筒 2\n",
      "萬 9\n",
      "萬 4\n",
      "萬 1\n",
      "筒 7\n",
      "筒 5\n",
      "箭 發\n",
      "索 8\n",
      "索 6\n",
      "筒 4\n",
      "風 北\n",
      "萬 9\n",
      "萬 2\n",
      "萬 8\n",
      "筒 7\n",
      "風 東\n",
      "索 8\n",
      "萬 8\n",
      "索 2\n",
      "索 4\n",
      "萬 3\n",
      "索 3\n",
      "筒 9\n",
      "花 冬\n",
      "風 北\n",
      "萬 3\n",
      "索 7\n",
      "索 5\n",
      "筒 8\n",
      "萬 9\n",
      "索 2\n",
      "筒 9\n",
      "萬 5\n",
      "索 3\n",
      "箭 白\n",
      "筒 4\n",
      "筒 1\n",
      "花 秋\n",
      "萬 4\n",
      "索 4\n",
      "索 5\n",
      "花 蘭\n",
      "萬 6\n",
      "風 西\n",
      "筒 3\n",
      "索 1\n",
      "索 5\n",
      "萬 8\n",
      "索 1\n",
      "筒 7\n",
      "萬 6\n",
      "萬 2\n",
      "筒 3\n",
      "箭 中\n",
      "索 9\n",
      "萬 9\n",
      "筒 6\n",
      "花 春\n",
      "筒 6\n",
      "箭 白\n",
      "萬 1\n",
      "索 1\n",
      "花 夏\n",
      "筒 1\n",
      "萬 4\n",
      "索 7\n",
      "花 菊\n",
      "索 8\n",
      "筒 6\n"
     ]
    }
   ],
   "source": [
    "# shuffled tiles\n",
    "print(f\"Number of Tiles in a Mahjong Game: {len(game.unseenTiles)}\");\n",
    "for tile in game.unseenTiles:\n",
    "    print(f\"{tile.suit} {tile.rank}\")"
   ]
  },
  {
   "cell_type": "markdown",
   "metadata": {},
   "source": [
    "## Check Cards from each Player"
   ]
  },
  {
   "cell_type": "code",
   "execution_count": 7,
   "metadata": {},
   "outputs": [
    {
     "data": {
      "text/plain": [
       "[Card(suit='萬', rank=2),\n",
       " Card(suit='箭', rank=發),\n",
       " Card(suit='索', rank=4),\n",
       " Card(suit='索', rank=6),\n",
       " Card(suit='筒', rank=2),\n",
       " Card(suit='索', rank=6),\n",
       " Card(suit='萬', rank=2),\n",
       " Card(suit='筒', rank=4),\n",
       " Card(suit='筒', rank=7),\n",
       " Card(suit='風', rank=西),\n",
       " Card(suit='索', rank=7),\n",
       " Card(suit='索', rank=8),\n",
       " Card(suit='筒', rank=1)]"
      ]
     },
     "execution_count": 7,
     "metadata": {},
     "output_type": "execute_result"
    }
   ],
   "source": [
    "game.players[0].hand"
   ]
  },
  {
   "cell_type": "code",
   "execution_count": 8,
   "metadata": {},
   "outputs": [
    {
     "data": {
      "text/plain": [
       "[Card(suit='索', rank=5),\n",
       " Card(suit='箭', rank=白),\n",
       " Card(suit='風', rank=南),\n",
       " Card(suit='筒', rank=2),\n",
       " Card(suit='筒', rank=3),\n",
       " Card(suit='萬', rank=5),\n",
       " Card(suit='風', rank=東),\n",
       " Card(suit='萬', rank=7),\n",
       " Card(suit='風', rank=東),\n",
       " Card(suit='風', rank=南),\n",
       " Card(suit='索', rank=3),\n",
       " Card(suit='萬', rank=5),\n",
       " Card(suit='風', rank=南)]"
      ]
     },
     "execution_count": 8,
     "metadata": {},
     "output_type": "execute_result"
    }
   ],
   "source": [
    "game.players[1].hand"
   ]
  },
  {
   "cell_type": "code",
   "execution_count": 9,
   "metadata": {},
   "outputs": [
    {
     "data": {
      "text/plain": [
       "[Card(suit='索', rank=1),\n",
       " Card(suit='箭', rank=發),\n",
       " Card(suit='萬', rank=7),\n",
       " Card(suit='風', rank=北),\n",
       " Card(suit='萬', rank=6),\n",
       " Card(suit='箭', rank=白),\n",
       " Card(suit='萬', rank=3),\n",
       " Card(suit='索', rank=4),\n",
       " Card(suit='箭', rank=中),\n",
       " Card(suit='箭', rank=發),\n",
       " Card(suit='箭', rank=中),\n",
       " Card(suit='萬', rank=4),\n",
       " Card(suit='索', rank=6)]"
      ]
     },
     "execution_count": 9,
     "metadata": {},
     "output_type": "execute_result"
    }
   ],
   "source": [
    "game.players[2].hand"
   ]
  },
  {
   "cell_type": "code",
   "execution_count": 10,
   "metadata": {},
   "outputs": [
    {
     "data": {
      "text/plain": [
       "[Card(suit='索', rank=9),\n",
       " Card(suit='風', rank=南),\n",
       " Card(suit='筒', rank=3),\n",
       " Card(suit='風', rank=東),\n",
       " Card(suit='風', rank=北),\n",
       " Card(suit='萬', rank=8),\n",
       " Card(suit='筒', rank=8),\n",
       " Card(suit='萬', rank=7),\n",
       " Card(suit='索', rank=3),\n",
       " Card(suit='筒', rank=6),\n",
       " Card(suit='筒', rank=8),\n",
       " Card(suit='筒', rank=5),\n",
       " Card(suit='筒', rank=5)]"
      ]
     },
     "execution_count": 10,
     "metadata": {},
     "output_type": "execute_result"
    }
   ],
   "source": [
    "game.players[3].hand"
   ]
  },
  {
   "cell_type": "markdown",
   "metadata": {},
   "source": [
    "From the above, we can see that, each player initially draws 13 tiles. "
   ]
  },
  {
   "cell_type": "markdown",
   "metadata": {},
   "source": [
    "## Strategy 1: ShangTing distance"
   ]
  },
  {
   "cell_type": "markdown",
   "metadata": {},
   "source": [
    "Finding the ShangTing distance for each player's initial hand tiles"
   ]
  },
  {
   "cell_type": "code",
   "execution_count": 23,
   "metadata": {},
   "outputs": [
    {
     "data": {
      "text/plain": [
       "3"
      ]
     },
     "execution_count": 23,
     "metadata": {},
     "output_type": "execute_result"
    }
   ],
   "source": [
    "ShangTingPlayer.evalShangTing(\n",
    "    closedDeck = game.players[0].hand + [Card('索', 1)],\n",
    ")"
   ]
  },
  {
   "cell_type": "code",
   "execution_count": 25,
   "metadata": {},
   "outputs": [
    {
     "data": {
      "text/plain": [
       "4"
      ]
     },
     "execution_count": 25,
     "metadata": {},
     "output_type": "execute_result"
    }
   ],
   "source": [
    "ShangTingPlayer.evalShangTing(\n",
    "    closedDeck = game.players[1].hand + [Card('索', 1)],\n",
    ")"
   ]
  },
  {
   "cell_type": "code",
   "execution_count": 26,
   "metadata": {},
   "outputs": [
    {
     "data": {
      "text/plain": [
       "3"
      ]
     },
     "execution_count": 26,
     "metadata": {},
     "output_type": "execute_result"
    }
   ],
   "source": [
    "ShangTingPlayer.evalShangTing(\n",
    "    closedDeck = game.players[2].hand + [Card('索', 1)],\n",
    ")"
   ]
  },
  {
   "cell_type": "code",
   "execution_count": 27,
   "metadata": {},
   "outputs": [
    {
     "data": {
      "text/plain": [
       "4"
      ]
     },
     "execution_count": 27,
     "metadata": {},
     "output_type": "execute_result"
    }
   ],
   "source": [
    "ShangTingPlayer.evalShangTing(\n",
    "    closedDeck = game.players[3].hand + [Card('索', 1)],\n",
    ")"
   ]
  },
  {
   "cell_type": "markdown",
   "metadata": {},
   "source": [
    "Minimizing the ShangTing distance from an array of tiles"
   ]
  },
  {
   "cell_type": "code",
   "execution_count": 69,
   "metadata": {},
   "outputs": [],
   "source": [
    "def minimizeShangTing(deck: list[Card]):\n",
    "    targetTile: Card = deck[-1] # discard the new tile\n",
    "    shangTingDist = ShangTingPlayer.evalShangTing(deck.copy()) # init\n",
    "    for tile in deck:\n",
    "        hypotheticalDeck = deck.copy()\n",
    "        hypotheticalDeck.remove(tile)\n",
    "        if (ShangTingPlayer.evalShangTing(hypotheticalDeck) < shangTingDist):\n",
    "            shangTingDist = ShangTingPlayer.evalShangTing(hypotheticalDeck)\n",
    "            targetTile = tile\n",
    "    return targetTile, shangTingDist  "
   ]
  },
  {
   "cell_type": "code",
   "execution_count": 70,
   "metadata": {},
   "outputs": [
    {
     "data": {
      "text/plain": [
       "(Card(suit='索', rank=1), 3)"
      ]
     },
     "execution_count": 70,
     "metadata": {},
     "output_type": "execute_result"
    }
   ],
   "source": [
    "minimizeShangTing(game.players[0].hand + [Card('索', 1)])"
   ]
  },
  {
   "cell_type": "code",
   "execution_count": 71,
   "metadata": {},
   "outputs": [
    {
     "data": {
      "text/plain": [
       "(Card(suit='索', rank=1), 4)"
      ]
     },
     "execution_count": 71,
     "metadata": {},
     "output_type": "execute_result"
    }
   ],
   "source": [
    "minimizeShangTing(game.players[1].hand + [Card('索', 1)])"
   ]
  },
  {
   "cell_type": "code",
   "execution_count": 72,
   "metadata": {},
   "outputs": [
    {
     "data": {
      "text/plain": [
       "(Card(suit='索', rank=1), 3)"
      ]
     },
     "execution_count": 72,
     "metadata": {},
     "output_type": "execute_result"
    }
   ],
   "source": [
    "minimizeShangTing(game.players[2].hand + [Card('索', 1)])"
   ]
  },
  {
   "cell_type": "code",
   "execution_count": 73,
   "metadata": {},
   "outputs": [
    {
     "data": {
      "text/plain": [
       "(Card(suit='索', rank=1), 4)"
      ]
     },
     "execution_count": 73,
     "metadata": {},
     "output_type": "execute_result"
    }
   ],
   "source": [
    "minimizeShangTing(game.players[3].hand + [Card('索', 1)])"
   ]
  },
  {
   "cell_type": "markdown",
   "metadata": {},
   "source": [
    "## Play for a few Rounds"
   ]
  },
  {
   "cell_type": "code",
   "execution_count": 24,
   "metadata": {},
   "outputs": [
    {
     "ename": "NameError",
     "evalue": "name 'self' is not defined",
     "output_type": "error",
     "traceback": [
      "\u001b[1;31m---------------------------------------------------------------------------\u001b[0m",
      "\u001b[1;31mNameError\u001b[0m                                 Traceback (most recent call last)",
      "Cell \u001b[1;32mIn[24], line 14\u001b[0m\n\u001b[0;32m     10\u001b[0m         discarded_tile \u001b[38;5;241m=\u001b[39m player\u001b[38;5;241m.\u001b[39mhand\u001b[38;5;241m.\u001b[39mpop(random\u001b[38;5;241m.\u001b[39mrandint(\u001b[38;5;241m0\u001b[39m, \u001b[38;5;28mlen\u001b[39m(player\u001b[38;5;241m.\u001b[39mhand) \u001b[38;5;241m-\u001b[39m \u001b[38;5;241m1\u001b[39m))\n\u001b[0;32m     11\u001b[0m         \u001b[38;5;28mprint\u001b[39m(\u001b[38;5;124mf\u001b[39m\u001b[38;5;124m\"\u001b[39m\u001b[38;5;124mPlayer \u001b[39m\u001b[38;5;132;01m{\u001b[39;00mplayer\u001b[38;5;241m.\u001b[39mplayer_id\u001b[38;5;132;01m}\u001b[39;00m\u001b[38;5;124m discards a tile: \u001b[39m\u001b[38;5;132;01m{\u001b[39;00mdiscarded_tile\u001b[38;5;241m.\u001b[39mget_str()\u001b[38;5;132;01m}\u001b[39;00m\u001b[38;5;124m\"\u001b[39m)\n\u001b[0;32m     13\u001b[0m players \u001b[38;5;241m=\u001b[39m [\n\u001b[1;32m---> 14\u001b[0m     Player(\u001b[38;5;241m1\u001b[39m, \u001b[38;5;124m'\u001b[39m\u001b[38;5;124m東\u001b[39m\u001b[38;5;124m'\u001b[39m, [], logger\u001b[38;5;241m=\u001b[39m\u001b[38;5;28;43mself\u001b[39;49m\u001b[38;5;241m.\u001b[39mlogger),\n\u001b[0;32m     15\u001b[0m     Player(\u001b[38;5;241m2\u001b[39m, \u001b[38;5;124m'\u001b[39m\u001b[38;5;124m南\u001b[39m\u001b[38;5;124m'\u001b[39m, [], logger\u001b[38;5;241m=\u001b[39m\u001b[38;5;28mself\u001b[39m\u001b[38;5;241m.\u001b[39mlogger),\n\u001b[0;32m     16\u001b[0m     Player(\u001b[38;5;241m3\u001b[39m, \u001b[38;5;124m'\u001b[39m\u001b[38;5;124m西\u001b[39m\u001b[38;5;124m'\u001b[39m, [], logger\u001b[38;5;241m=\u001b[39m\u001b[38;5;28mself\u001b[39m\u001b[38;5;241m.\u001b[39mlogger),\n\u001b[0;32m     17\u001b[0m     Player(\u001b[38;5;241m4\u001b[39m, \u001b[38;5;124m'\u001b[39m\u001b[38;5;124m北\u001b[39m\u001b[38;5;124m'\u001b[39m, [], logger\u001b[38;5;241m=\u001b[39m\u001b[38;5;28mself\u001b[39m\u001b[38;5;241m.\u001b[39mlogger)\n\u001b[0;32m     18\u001b[0m ]\n\u001b[0;32m     19\u001b[0m \u001b[38;5;66;03m# Play for 3 rounds\u001b[39;00m\n\u001b[0;32m     20\u001b[0m \u001b[38;5;28;01mfor\u001b[39;00m round_num \u001b[38;5;129;01min\u001b[39;00m \u001b[38;5;28mrange\u001b[39m(\u001b[38;5;241m3\u001b[39m):\n",
      "\u001b[1;31mNameError\u001b[0m: name 'self' is not defined"
     ]
    }
   ],
   "source": [
    "# Function to simulate a round of play\n",
    "def play_round(players: list[Player]):\n",
    "    for player in players:\n",
    "        # Player draws a tile from the deck\n",
    "        drawn_tile = init_deck.pop()\n",
    "        player.hand.append(drawn_tile)\n",
    "        print(f\"Player {player.player_id} draws a tile: {drawn_tile.get_str()}\")\n",
    "\n",
    "        # Player discards a random tile from their hand\n",
    "        discarded_tile = player.hand.pop(random.randint(0, len(player.hand) - 1))\n",
    "        print(f\"Player {player.player_id} discards a tile: {discarded_tile.get_str()}\")\n",
    "\n",
    "players = [\n",
    "    Player(1, '東', [], logger=self.logger),\n",
    "    Player(2, '南', [], logger=self.logger),\n",
    "    Player(3, '西', [], logger=self.logger),\n",
    "    Player(4, '北', [], logger=self.logger)\n",
    "]\n",
    "# Play for 3 rounds\n",
    "for round_num in range(3):\n",
    "    print(f\"\\nRound {round_num + 1}\")\n",
    "    play_round(players=players)\n",
    "    print(f\"Number of Tiles left in the deck: {len(init_deck)}\")"
   ]
  }
 ],
 "metadata": {
  "kernelspec": {
   "display_name": "Python 3",
   "language": "python",
   "name": "python3"
  },
  "language_info": {
   "codemirror_mode": {
    "name": "ipython",
    "version": 3
   },
   "file_extension": ".py",
   "mimetype": "text/x-python",
   "name": "python",
   "nbconvert_exporter": "python",
   "pygments_lexer": "ipython3",
   "version": "3.10.7"
  }
 },
 "nbformat": 4,
 "nbformat_minor": 2
}
